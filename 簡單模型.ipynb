{
 "cells": [
  {
   "cell_type": "code",
   "execution_count": 31,
   "metadata": {},
   "outputs": [
    {
     "name": "stdout",
     "output_type": "stream",
     "text": [
      "[[80.25795]]\n"
     ]
    }
   ],
   "source": [
    "#簡單的LSTM例子\n",
    "import numpy as np\n",
    "import keras\n",
    "from numpy import array\n",
    "from keras.models import Sequential\n",
    "from keras.layers import LSTM\n",
    "from keras.layers import Dense\n",
    "\n",
    "x=array([[10,20,30],[20,30,40],[30,40,50],[40,50,60]])\n",
    "y=array([40,50,60,70])\n",
    "\n",
    "x=x.reshape((x.shape[0],x.shape[1],1))\n",
    "#\n",
    "model=Sequential()\n",
    "model.add(LSTM(100, activation='relu', input_shape=(3,1)))\n",
    "model.add(Dense(1))\n",
    "model.compile(optimizer='adam', loss='mse')\n",
    "\n",
    "model.fit(x, y, epochs=1000, verbose=0)\n",
    "\n",
    "x_input=array([50,60,70])\n",
    "x_input=x_input.reshape((1,3,1))\n",
    "\n",
    "yhat=model.predict(x_input, verbose=0)\n",
    "\n",
    "print(yhat)"
   ]
  },
  {
   "cell_type": "code",
   "execution_count": 30,
   "metadata": {},
   "outputs": [
    {
     "name": "stdout",
     "output_type": "stream",
     "text": [
      "[[79.96499]]\n"
     ]
    }
   ],
   "source": [
    "#MLP\n",
    "import numpy as np\n",
    "import keras\n",
    "from numpy import array\n",
    "from keras.models import Sequential\n",
    "from keras.layers import Dense\n",
    "\n",
    "x=array([[10,20,30],[20,30,40],[30,40,50],[40,50,60]])\n",
    "y=array([40,50,60,70])\n",
    "\n",
    "model=Sequential()\n",
    "model.add(Dense(100, activation='relu', input_dim=3))\n",
    "model.add(Dense(1))\n",
    "model.compile(optimizer='adam', loss='mse')\n",
    "\n",
    "model.fit(x, y, epochs=2000, verbose=0)\n",
    "\n",
    "x_input=array([50,60,70])\n",
    "x_input=x_input.reshape((1,3))\n",
    "\n",
    "yhat=model.predict(x_input, verbose=0)\n",
    "\n",
    "print(yhat)\n"
   ]
  },
  {
   "cell_type": "code",
   "execution_count": null,
   "metadata": {},
   "outputs": [],
   "source": []
  }
 ],
 "metadata": {
  "kernelspec": {
   "display_name": "Python 3",
   "language": "python",
   "name": "python3"
  },
  "language_info": {
   "codemirror_mode": {
    "name": "ipython",
    "version": 3
   },
   "file_extension": ".py",
   "mimetype": "text/x-python",
   "name": "python",
   "nbconvert_exporter": "python",
   "pygments_lexer": "ipython3",
   "version": "3.7.4"
  }
 },
 "nbformat": 4,
 "nbformat_minor": 2
}
